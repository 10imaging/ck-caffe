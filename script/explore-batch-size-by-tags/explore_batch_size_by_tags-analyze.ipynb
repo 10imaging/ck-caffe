{
 "cells": [
  {
   "cell_type": "markdown",
   "metadata": {},
   "source": [
    "# Analyze how the batch size affects the performance across installed Caffe variants and models"
   ]
  },
  {
   "cell_type": "markdown",
   "metadata": {},
   "source": [
    "## Includes"
   ]
  },
  {
   "cell_type": "markdown",
   "metadata": {},
   "source": [
    "### Standard"
   ]
  },
  {
   "cell_type": "code",
   "execution_count": null,
   "metadata": {
    "collapsed": true
   },
   "outputs": [],
   "source": [
    "import os\n",
    "import sys\n",
    "import json\n",
    "import re\n",
    "# from string import Template"
   ]
  },
  {
   "cell_type": "markdown",
   "metadata": {},
   "source": [
    "### Scientific"
   ]
  },
  {
   "cell_type": "code",
   "execution_count": null,
   "metadata": {
    "collapsed": false
   },
   "outputs": [],
   "source": [
    "import IPython as ip\n",
    "import numpy as np\n",
    "import scipy as sp\n",
    "import pandas as pd\n",
    "import matplotlib as mp"
   ]
  },
  {
   "cell_type": "code",
   "execution_count": null,
   "metadata": {
    "collapsed": false
   },
   "outputs": [],
   "source": [
    "print ('IPython version: %s' % ip.__version__)\n",
    "print ('NumPy version: %s' % np.__version__)\n",
    "print ('SciPy version: %s' % sp.__version__)\n",
    "print ('Pandas version: %s' % pd.__version__)\n",
    "print ('Matplotlib version: %s' % mp.__version__)"
   ]
  },
  {
   "cell_type": "code",
   "execution_count": null,
   "metadata": {
    "collapsed": false
   },
   "outputs": [],
   "source": [
    "import matplotlib.pyplot as plt\n",
    "from matplotlib import cm\n",
    "%matplotlib inline\n",
    "# import scipy.stats as st"
   ]
  },
  {
   "cell_type": "markdown",
   "metadata": {},
   "source": [
    "### Collective Knowledge"
   ]
  },
  {
   "cell_type": "code",
   "execution_count": null,
   "metadata": {
    "collapsed": false
   },
   "outputs": [],
   "source": [
    "import ck.kernel as ck\n",
    "print ('CK version: %s' % ck.__version__)"
   ]
  },
  {
   "cell_type": "markdown",
   "metadata": {},
   "source": [
    "## Access Caffe experimental data"
   ]
  },
  {
   "cell_type": "code",
   "execution_count": null,
   "metadata": {
    "collapsed": true
   },
   "outputs": [],
   "source": [
    "def get_experimental_results(tags):\n",
    "    r=ck.access({'action':'search', 'module_uoa':'experiment', 'tags':tags})\n",
    "    if r['return']>0:\n",
    "        print (\"Error: %s\" % r['error'])\n",
    "        exit(1)\n",
    "    # FIXME: For now, assume a single entry per the given tags.\n",
    "    r=ck.access({'action':'list_points', 'module_uoa':'experiment', 'data_uoa': r['lst'][0]['data_uoa']})\n",
    "    if r['return']>0:\n",
    "        print (\"Error: %s\" % r['error'])\n",
    "        exit(1)\n",
    "    \n",
    "    results = {}\n",
    "    for point in r['points']:\n",
    "        with open(os.path.join(r['path'], 'ckp-%s.0001.json' % point)) as point_file:\n",
    "            point_data_raw = json.load(point_file)\n",
    "            run_info_list = [\n",
    "                characteristics['run']\n",
    "                for characteristics in point_data_raw['characteristics_list']\n",
    "                if characteristics['run']['run_success'] == 'yes'\n",
    "            ]\n",
    "            # Select characteristics of interest. TODO: simplify.\n",
    "            point_data_dict = {\n",
    "                'time_fw_ms' : [ run_info.get('time_fw_ms',0)      for run_info in run_info_list ],\n",
    "                #'per_layer'  : [ run_info.get('per_layer_info',[]) for run_info in run_info_list ]\n",
    "            }\n",
    "            batch_size = point_data_raw['choices']['env']['CK_CAFFE_BATCH_SIZE']\n",
    "            results[batch_size] = point_data_dict\n",
    "    return results"
   ]
  },
  {
   "cell_type": "code",
   "execution_count": null,
   "metadata": {
    "collapsed": false
   },
   "outputs": [],
   "source": [
    "# All Caffe installations.\n",
    "caffe_env = ck.access({'action':'show', 'module_uoa':'env', 'tags':'lib,caffe'})\n",
    "caffe_lst = caffe_env['lst']\n",
    "\n",
    "# All Caffe models.\n",
    "caffemodel_env = ck.access({'action':'show', 'module_uoa':'env', 'tags':'caffemodel'})\n",
    "caffemodel_lst = caffemodel_env['lst']"
   ]
  },
  {
   "cell_type": "code",
   "execution_count": null,
   "metadata": {
    "collapsed": false
   },
   "outputs": [],
   "source": [
    "first_iteration = True\n",
    "# For each Caffe installation.\n",
    "for (caffe, caffe_index) in zip(caffe_lst, range(len(caffe_lst))):\n",
    "    caffe_tags = re.match('BVLC Caffe framework \\((?P<tags>.*)\\)', caffe['info']['data_name'])\n",
    "    caffe_tags = caffe_tags.group('tags').replace(', ', '-')\n",
    "    # For each Caffe model.\n",
    "    for (caffemodel, caffemodel_index) in zip(caffemodel_lst, range(len(caffemodel_lst))):\n",
    "        caffemodel_tags = re.match('Caffe model \\(net and weights\\) \\((?P<tags>.*)\\)', caffemodel['info']['data_name'])\n",
    "        caffemodel_tags = caffemodel_tags.group('tags').replace(', ', '-')\n",
    "        tags = ','.join([ 'time_gpu', caffe_tags, caffemodel_tags ])\n",
    "        df_new = pd.DataFrame(data=get_experimental_results(tags)).apply(lambda x: pd.Series(x['time_fw_ms']))\n",
    "        df_new.columns = [ [caffe_tags]*len(df_new.columns), [caffemodel_tags]*len(df_new.columns), df_new.columns ]\n",
    "        df_new.columns.names = [ 'caffe', 'caffemodel', 'batch size' ]; df_new.index.names = [ 'repetition' ]\n",
    "        if first_iteration:\n",
    "            first_iteration = False\n",
    "            df_all = df_new\n",
    "        else:\n",
    "            df_all = df_all.join(df_new)"
   ]
  },
  {
   "cell_type": "markdown",
   "metadata": {},
   "source": [
    "## All data indexed by repetitions"
   ]
  },
  {
   "cell_type": "code",
   "execution_count": null,
   "metadata": {
    "collapsed": false
   },
   "outputs": [],
   "source": [
    "df_all"
   ]
  },
  {
   "cell_type": "markdown",
   "metadata": {},
   "source": [
    "## All data indexed by installations and repetitions"
   ]
  },
  {
   "cell_type": "code",
   "execution_count": null,
   "metadata": {
    "collapsed": false
   },
   "outputs": [],
   "source": [
    "df_caffe = df_all.stack(level='caffe').swaplevel('caffe', 'repetition').sortlevel('caffe')\n",
    "df_caffe"
   ]
  },
  {
   "cell_type": "markdown",
   "metadata": {},
   "source": [
    "## All data indexed by models and repetitions"
   ]
  },
  {
   "cell_type": "code",
   "execution_count": null,
   "metadata": {
    "collapsed": false
   },
   "outputs": [],
   "source": [
    "df_caffemodel = df_all.stack(level='caffemodel').swaplevel('caffemodel', 'repetition').sortlevel('caffemodel')\n",
    "df_caffemodel"
   ]
  },
  {
   "cell_type": "markdown",
   "metadata": {},
   "source": [
    "## Mean execution time per batch"
   ]
  },
  {
   "cell_type": "code",
   "execution_count": null,
   "metadata": {
    "collapsed": false
   },
   "outputs": [],
   "source": [
    "df_mean_per_batch = df_all.describe().ix['mean'].unstack(level='batch size')\n",
    "df_mean_per_batch"
   ]
  },
  {
   "cell_type": "code",
   "execution_count": null,
   "metadata": {
    "collapsed": true
   },
   "outputs": [],
   "source": [
    "batch_sizes = range(1,len(df_mean_per_batch.columns)+1)"
   ]
  },
  {
   "cell_type": "markdown",
   "metadata": {},
   "source": [
    "## Mean execution time per image"
   ]
  },
  {
   "cell_type": "code",
   "execution_count": null,
   "metadata": {
    "collapsed": false,
    "scrolled": true
   },
   "outputs": [],
   "source": [
    "df_mean_per_image = df_mean_per_batch / batch_sizes\n",
    "df_mean_per_image"
   ]
  },
  {
   "cell_type": "markdown",
   "metadata": {},
   "source": [
    "## Minimum mean execution time per image"
   ]
  },
  {
   "cell_type": "code",
   "execution_count": null,
   "metadata": {
    "collapsed": false
   },
   "outputs": [],
   "source": [
    "df_mean_per_image.min(axis=1)"
   ]
  },
  {
   "cell_type": "code",
   "execution_count": null,
   "metadata": {
    "collapsed": false
   },
   "outputs": [],
   "source": [
    "df_mean_per_image.idxmin(axis=1)"
   ]
  },
  {
   "cell_type": "code",
   "execution_count": null,
   "metadata": {
    "collapsed": false
   },
   "outputs": [],
   "source": [
    "# Is the same answer as via .min(axis=1).values?\n",
    "# df_mean_per_image.lookup(df_mean_per_image.index, df_mean_per_image.idxmin(axis=1)) == df_mean_per_image.min(axis=1).values"
   ]
  },
  {
   "cell_type": "markdown",
   "metadata": {},
   "source": [
    "## Select the batch size with the minimum mean execution time per image"
   ]
  },
  {
   "cell_type": "code",
   "execution_count": null,
   "metadata": {
    "collapsed": false
   },
   "outputs": [],
   "source": [
    "df_mean_per_image_with_repetitions = df_all.stack(['caffe', 'caffemodel']) / batch_sizes\n",
    "df_mean_per_image_with_repetitions.loc[0]"
   ]
  },
  {
   "cell_type": "code",
   "execution_count": null,
   "metadata": {
    "collapsed": false
   },
   "outputs": [],
   "source": [
    "num_repetitions = len(df_mean_per_image_with_repetitions.index.levels[0])\n",
    "df_caffe_caffemodel = pd.DataFrame(\n",
    "    index=df_mean_per_image_with_repetitions.index, columns=['time (ms)'],\n",
    "    data=df_mean_per_image_with_repetitions.lookup(\n",
    "        df_mean_per_image_with_repetitions.index, df_mean_per_image.idxmin(axis=1).tolist()*num_repetitions\n",
    "    )\n",
    ").swaplevel('repetition').swaplevel('caffe', 'caffemodel').sortlevel('caffe')\n",
    "df_caffe_caffemodel.columns.names = ['execution time']\n",
    "# df_caffe_caffemodel"
   ]
  },
  {
   "cell_type": "code",
   "execution_count": null,
   "metadata": {
    "collapsed": false
   },
   "outputs": [],
   "source": [
    "df_caffe_caffemodel_mean = df_caffe_caffemodel.groupby(level=['caffe', 'caffemodel']).mean()\n",
    "df_caffe_caffemodel_std  = df_caffe_caffemodel.groupby(level=['caffe', 'caffemodel']).std()\n",
    "# df_caffe_caffemodel_mean['time (ms)'] == df_mean_per_image.min(axis=1)"
   ]
  },
  {
   "cell_type": "markdown",
   "metadata": {},
   "source": [
    "## Plot by Caffe installations"
   ]
  },
  {
   "cell_type": "code",
   "execution_count": null,
   "metadata": {
    "collapsed": false
   },
   "outputs": [],
   "source": [
    "df_caffe_caffemodel_mean.unstack('caffemodel') \\\n",
    "    .plot(title='Execution time per image (ms)', yerr=df_caffe_caffemodel_std.unstack('caffemodel'), \n",
    "          kind='bar', rot=0, ylim=[0,800], figsize=[12, 6], grid=True, legend=True, colormap=cm.autumn)"
   ]
  },
  {
   "cell_type": "markdown",
   "metadata": {},
   "source": [
    "## Plot by Caffe models"
   ]
  },
  {
   "cell_type": "code",
   "execution_count": null,
   "metadata": {
    "collapsed": false
   },
   "outputs": [],
   "source": [
    "df_caffe_caffemodel_mean.unstack('caffe') \\\n",
    "    .plot(title='Execution time per image (ms)', yerr=df_caffe_caffemodel_std.unstack('caffe'), \n",
    "          kind='bar', rot=0, ylim=[0,800], figsize=[12, 6], grid=True, legend=True, colormap=cm.autumn)"
   ]
  }
 ],
 "metadata": {
  "kernelspec": {
   "display_name": "Python 2",
   "language": "python",
   "name": "python2"
  },
  "language_info": {
   "codemirror_mode": {
    "name": "ipython",
    "version": 2
   },
   "file_extension": ".py",
   "mimetype": "text/x-python",
   "name": "python",
   "nbconvert_exporter": "python",
   "pygments_lexer": "ipython2",
   "version": "2.7.12"
  }
 },
 "nbformat": 4,
 "nbformat_minor": 0
}
