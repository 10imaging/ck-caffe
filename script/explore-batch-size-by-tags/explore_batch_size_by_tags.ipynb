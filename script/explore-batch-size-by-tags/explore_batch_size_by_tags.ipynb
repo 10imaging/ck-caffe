{
 "cells": [
  {
   "cell_type": "markdown",
   "metadata": {},
   "source": [
    "# Study how the batch size affects the performance across installed Caffe variants and models"
   ]
  },
  {
   "cell_type": "markdown",
   "metadata": {},
   "source": [
    "## Includes"
   ]
  },
  {
   "cell_type": "markdown",
   "metadata": {},
   "source": [
    "### Standard"
   ]
  },
  {
   "cell_type": "code",
   "execution_count": null,
   "metadata": {
    "collapsed": true
   },
   "outputs": [],
   "source": [
    "import os\n",
    "import sys\n",
    "import json\n",
    "import re\n",
    "from string import Template"
   ]
  },
  {
   "cell_type": "markdown",
   "metadata": {},
   "source": [
    "### Scientific"
   ]
  },
  {
   "cell_type": "code",
   "execution_count": null,
   "metadata": {
    "collapsed": false
   },
   "outputs": [],
   "source": [
    "import IPython as ip\n",
    "import numpy as np\n",
    "import scipy as sp\n",
    "import pandas as pd\n",
    "import matplotlib as mp"
   ]
  },
  {
   "cell_type": "code",
   "execution_count": null,
   "metadata": {
    "collapsed": false
   },
   "outputs": [],
   "source": [
    "print ('IPython version: %s' % ip.__version__)\n",
    "print ('NumPy version: %s' % np.__version__)\n",
    "print ('SciPy version: %s' % sp.__version__)\n",
    "print ('Pandas version: %s' % pd.__version__)\n",
    "print ('Matplotlib version: %s' % mp.__version__)"
   ]
  },
  {
   "cell_type": "code",
   "execution_count": null,
   "metadata": {
    "collapsed": false
   },
   "outputs": [],
   "source": [
    "import matplotlib.pyplot as plt\n",
    "from matplotlib import cm\n",
    "%matplotlib inline\n",
    "# import scipy.stats as st"
   ]
  },
  {
   "cell_type": "markdown",
   "metadata": {},
   "source": [
    "### Collective Knowledge"
   ]
  },
  {
   "cell_type": "code",
   "execution_count": null,
   "metadata": {
    "collapsed": false
   },
   "outputs": [],
   "source": [
    "import ck.kernel as ck\n",
    "print ('CK version: %s' % ck.__version__)"
   ]
  },
  {
   "cell_type": "markdown",
   "metadata": {},
   "source": [
    "## Access Caffe installations"
   ]
  },
  {
   "cell_type": "code",
   "execution_count": null,
   "metadata": {
    "collapsed": false
   },
   "outputs": [],
   "source": [
    "caffe_env = ck.access({'action':'show', 'module_uoa':'env', 'tags':'lib,caffe'})\n",
    "caffe_lst = caffe_env['lst']\n",
    "for (caffe, caffe_index) in zip(caffe_lst, range(len(caffe_lst))):\n",
    "    # Get the tags from e.g. 'BVLC Caffe framework (clblast)'\n",
    "    caffe_tags = re.match('BVLC Caffe framework \\((?P<tags>.*)\\)', caffe['info']['data_name'])\n",
    "    caffe_tags = caffe_tags.group('tags').replace(', ','-')\n",
    "    print (\"%d - %s - %s\" % (caffe_index, caffe_tags, caffe['data_uid']))"
   ]
  },
  {
   "cell_type": "markdown",
   "metadata": {},
   "source": [
    "## Access Caffe models"
   ]
  },
  {
   "cell_type": "code",
   "execution_count": null,
   "metadata": {
    "collapsed": false
   },
   "outputs": [],
   "source": [
    "caffemodel_env = ck.access({'action':'show', 'module_uoa':'env', 'tags':'caffemodel'})\n",
    "caffemodel_lst = caffemodel_env['lst']\n",
    "for (caffemodel, caffemodel_index) in zip(caffemodel_lst, range(len(caffemodel_lst))):\n",
    "    # Get the tags from e.g. 'Caffe model (net and weights) (deepscale, squeezenet, 1.1)'\n",
    "    caffemodel_tags = re.match('Caffe model \\(net and weights\\) \\((?P<tags>.*)\\)', caffemodel['info']['data_name'])\n",
    "    caffemodel_tags = caffemodel_tags.group('tags').replace(', ','-')\n",
    "    print (\"%d - %s - %s\" % (caffemodel_index, caffemodel_tags, caffemodel['data_uid']))"
   ]
  },
  {
   "cell_type": "markdown",
   "metadata": {},
   "source": [
    "## Generate all the benchmarking files"
   ]
  },
  {
   "cell_type": "code",
   "execution_count": null,
   "metadata": {
    "collapsed": false
   },
   "outputs": [],
   "source": [
    "setup_program_pipeline_json_template = Template('''\\\n",
    "{\n",
    "    \"prepare\":\"yes\",\n",
    "\n",
    "    \"save_to_file\":\"$setup_program_pipeline_tmp_json_path\",\n",
    "\n",
    "    \"data_uoa\":\"caffe\",\n",
    "\n",
    "    \"cmd_key\":\"time_gpu\",\n",
    "\n",
    "    \"speed\":\"yes\",\n",
    "    \"energy\":\"no\",\n",
    "\n",
    "    \"cpu_freq\":\"max\",\n",
    "    \"gpu_freq\":\"max\",\n",
    "\n",
    "    \"no_compiler_description\":\"yes\",\n",
    "    \"no_state_check\":\"yes\",\n",
    "    \"compile_only_once\":\"yes\",\n",
    "    \"skip_calibration\":\"yes\"\n",
    "}\n",
    "''')"
   ]
  },
  {
   "cell_type": "code",
   "execution_count": null,
   "metadata": {
    "collapsed": true
   },
   "outputs": [],
   "source": [
    "explore_batch_size_json_template = Template('''\\\n",
    "{\n",
    "    \"choices_order\":[\n",
    "        [\n",
    "            \"##env#CK_CAFFE_BATCH_SIZE\"\n",
    "        ]\n",
    "    ],\n",
    "    \"choices_selection\":[\n",
    "        {\"type\":\"loop\", \"start\":$start, \"stop\":$stop, \"step\":$step, \"default\":$default}\n",
    "    ],\n",
    "\n",
    "    \"features_keys_to_process\":[\"##choices#*\"],\n",
    "\n",
    "    \"iterations\":-1,\n",
    "    \"repetitions\":5,\n",
    "\n",
    "    \"record\":\"yes\",\n",
    "    \"record_failed\":\"yes\",\n",
    "    \"record_params\":{\n",
    "        \"search_point_by_features\":\"yes\"\n",
    "    },\n",
    "    \"record_repo\":\"local\",\n",
    "    \"record_uoa\":\"$record_uoa\",\n",
    "\n",
    "    \"tags\":[\"time_gpu\", \"$hostname\", \"$caffemodel_tags\", \"$caffe_tags\"]\n",
    "}\n",
    "''')"
   ]
  },
  {
   "cell_type": "code",
   "execution_count": null,
   "metadata": {
    "collapsed": true
   },
   "outputs": [],
   "source": [
    "explore_batch_size_bash_template = Template('''\\\n",
    "#!/bin/bash\n",
    "ck autotune pipeline:program pipeline_from_file=$setup_program_pipeline_tmp_json_path @$explore_batch_size_json_path\n",
    "''')"
   ]
  },
  {
   "cell_type": "code",
   "execution_count": null,
   "metadata": {
    "collapsed": false
   },
   "outputs": [],
   "source": [
    "def generate(caffe_tags, caffemodel_tags, caffe_index, caffemodel_index):\n",
    "    # Generate the JSON files for setting up the program pipeline.\n",
    "    setup_program_pipeline_json_path = 'pipeline.%s.%s.json' % (caffemodel_tags, caffe_tags)\n",
    "    setup_program_pipeline_tmp_json_path = 'pipeline.%s.%s.tmp.json' % (caffemodel_tags, caffe_tags)\n",
    "    with open(setup_program_pipeline_json_path, 'w') as setup_program_pipeline_json_file:\n",
    "        setup_program_pipeline_json_file.write(\n",
    "            setup_program_pipeline_json_template.substitute(\n",
    "                setup_program_pipeline_tmp_json_path=setup_program_pipeline_tmp_json_path\n",
    "            )\n",
    "        )\n",
    "\n",
    "    # Generate answers for when setting up the program pipeline.\n",
    "    setup_program_pipeline_answers_path = 'pipeline.%s.%s.answers' % (caffemodel_tags, caffe_tags)\n",
    "    !echo -n > {setup_program_pipeline_answers_path}\n",
    "    !echo {caffe_index}      >> {setup_program_pipeline_answers_path}\n",
    "    !echo {caffemodel_index} >> {setup_program_pipeline_answers_path}\n",
    "    \n",
    "    # Clean and then set up the program pipeline. NB: IPython requires double braces for the argument to echo.\n",
    "    !echo {{}} > {setup_program_pipeline_tmp_json_path}\n",
    "    !cat {setup_program_pipeline_answers_path} | ck pipeline program @{setup_program_pipeline_json_path} @{setup_program_pipeline_tmp_json_path} \"$@\"\n",
    "    \n",
    "    # Generate the JSON file for exploring the batch size.\n",
    "    hostname = !hostname\n",
    "    choices_selection = { 'start':1, 'stop':4, 'step':1, 'default':1 }\n",
    "    explore_batch_size_json_path = 'explore.%s.%s.json' % (caffemodel_tags, caffe_tags)\n",
    "    with open(explore_batch_size_json_path, 'w') as explore_batch_size_json_file:\n",
    "        explore_batch_size_json_file.write(\n",
    "            explore_batch_size_json_template.substitute(\n",
    "                record_uoa='%s-%s' % (caffemodel_tags, caffe_tags),\n",
    "                caffemodel_tags=caffemodel_tags,\n",
    "                caffe_tags=caffe_tags,\n",
    "                hostname=hostname.s,\n",
    "                start=choices_selection['start'],\n",
    "                stop=choices_selection['stop'],\n",
    "                step=choices_selection['step'],\n",
    "                default=choices_selection['default']\n",
    "            )\n",
    "        )\n",
    "    \n",
    "    # Generate the bash file for exploring the batch size.\n",
    "    explore_batch_size_bash_path = 'explore.%s.%s.sh' % (caffemodel_tags, caffe_tags)\n",
    "    with open(explore_batch_size_bash_path, 'w') as explore_batch_size_bash_file:\n",
    "        explore_batch_size_bash_file.write(\n",
    "            explore_batch_size_bash_template.substitute(\n",
    "                setup_program_pipeline_tmp_json_path=setup_program_pipeline_tmp_json_path,\n",
    "                explore_batch_size_json_path=explore_batch_size_json_path\n",
    "            )\n",
    "        )\n",
    "    !chmod u+x {explore_batch_size_bash_path}\n",
    "    \n",
    "    return os.path.join(os.path.curdir, explore_batch_size_bash_path)"
   ]
  },
  {
   "cell_type": "code",
   "execution_count": null,
   "metadata": {
    "collapsed": false
   },
   "outputs": [],
   "source": [
    "explore_batch_size_all_bash_path = 'explore.all.sh'\n",
    "!echo \"#!/bin/bash\" > {explore_batch_size_all_bash_path}"
   ]
  },
  {
   "cell_type": "code",
   "execution_count": null,
   "metadata": {
    "collapsed": false
   },
   "outputs": [],
   "source": [
    "# All Caffe installations.\n",
    "caffe_env = ck.access({'action':'show', 'module_uoa':'env', 'tags':'lib,caffe'})\n",
    "caffe_lst = caffe_env['lst']\n",
    "\n",
    "# All Caffe models.\n",
    "caffemodel_env = ck.access({'action':'show', 'module_uoa':'env', 'tags':'caffemodel'})\n",
    "caffemodel_lst = caffemodel_env['lst']\n",
    "\n",
    "# For each Caffe installation.\n",
    "for (caffe, caffe_index) in zip(caffe_lst, range(len(caffe_lst))):\n",
    "    caffe_tags = re.match('BVLC Caffe framework \\((?P<tags>.*)\\)', caffe['info']['data_name'])\n",
    "    caffe_tags = caffe_tags.group('tags').replace(', ','-')\n",
    "    # For each Caffe model.\n",
    "    for (caffemodel, caffemodel_index) in zip(caffemodel_lst, range(len(caffemodel_lst))):\n",
    "        caffemodel_tags = re.match('Caffe model \\(net and weights\\) \\((?P<tags>.*)\\)', caffemodel['info']['data_name'])\n",
    "        caffemodel_tags = caffemodel_tags.group('tags').replace(', ','-')\n",
    "        explore_batch_size_bash_path = generate(caffe_tags, caffemodel_tags, caffe_index, caffemodel_index)\n",
    "        !echo {explore_batch_size_bash_path} >> {explore_batch_size_all_bash_path}\n",
    "\n",
    "!chmod u+x {explore_batch_size_all_bash_path}"
   ]
  }
 ],
 "metadata": {
  "kernelspec": {
   "display_name": "Python 2",
   "language": "python",
   "name": "python2"
  },
  "language_info": {
   "codemirror_mode": {
    "name": "ipython",
    "version": 2
   },
   "file_extension": ".py",
   "mimetype": "text/x-python",
   "name": "python",
   "nbconvert_exporter": "python",
   "pygments_lexer": "ipython2",
   "version": "2.7.12"
  }
 },
 "nbformat": 4,
 "nbformat_minor": 0
}
