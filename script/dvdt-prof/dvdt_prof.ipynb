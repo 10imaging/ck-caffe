{
 "cells": [
  {
   "cell_type": "markdown",
   "metadata": {},
   "source": [
    "# Execution time"
   ]
  },
  {
   "cell_type": "markdown",
   "metadata": {},
   "source": [
    "We first compare **performance** (execution time):\n",
    "- of the following CNN **models** (net + weights):\n",
    "<!--  - GoogleNet; -->\n",
    "  - AlexNet;\n",
    "<!--  - SqueezeNet 1.0; -->\n",
    "<!--  - SqueezeNet 1.1; -->\n",
    "\n",
    "- when using the following OpenCL BLAS **libraries**:\n",
    "<!--   - CLBlast dev (> 0.9.0); -->\n",
    "<!--   - CLBlast dev (> 0.9.0) with Mali-optimised overlay. -->\n",
    "  - clBLAS 2.4."
   ]
  },
  {
   "cell_type": "markdown",
   "metadata": {},
   "source": [
    "## Includes"
   ]
  },
  {
   "cell_type": "markdown",
   "metadata": {},
   "source": [
    "### Standard"
   ]
  },
  {
   "cell_type": "code",
   "execution_count": null,
   "metadata": {
    "collapsed": true
   },
   "outputs": [],
   "source": [
    "import os\n",
    "import sys\n",
    "import json"
   ]
  },
  {
   "cell_type": "markdown",
   "metadata": {},
   "source": [
    "### Scientific"
   ]
  },
  {
   "cell_type": "code",
   "execution_count": null,
   "metadata": {
    "collapsed": false
   },
   "outputs": [],
   "source": [
    "import IPython as ip\n",
    "import numpy as np\n",
    "import scipy as sp\n",
    "import pandas as pd\n",
    "import matplotlib as mp"
   ]
  },
  {
   "cell_type": "code",
   "execution_count": null,
   "metadata": {
    "collapsed": false
   },
   "outputs": [],
   "source": [
    "print 'IPython version: %s' % ip.__version__\n",
    "print 'NumPy version: %s' % np.__version__\n",
    "print 'SciPy version: %s' % sp.__version__\n",
    "print 'Pandas version: %s' % pd.__version__\n",
    "print 'Matplotlib version: %s' % mp.__version__"
   ]
  },
  {
   "cell_type": "code",
   "execution_count": null,
   "metadata": {
    "collapsed": true
   },
   "outputs": [],
   "source": [
    "import matplotlib.pyplot as plt\n",
    "from matplotlib import cm\n",
    "%matplotlib inline\n",
    "# import scipy.stats as st"
   ]
  },
  {
   "cell_type": "markdown",
   "metadata": {},
   "source": [
    "### Collective Knowledge"
   ]
  },
  {
   "cell_type": "code",
   "execution_count": null,
   "metadata": {
    "collapsed": false
   },
   "outputs": [],
   "source": [
    "import ck.kernel as ck\n",
    "print 'CK version: %s' % ck.__version__"
   ]
  },
  {
   "cell_type": "code",
   "execution_count": null,
   "metadata": {
    "collapsed": false
   },
   "outputs": [],
   "source": [
    "r=ck.access({'action':'show', 'module_uoa':'env', 'tags':'tool,opencl,dvdt,prof'})\n",
    "if r['return']>0:\n",
    "    print (\"Error: %s\" % r['error'])\n",
    "    exit(1)\n",
    "# Get path the first returned environment entry.\n",
    "dvdt_prof_dir=r['lst'][0]['meta']['env']['CK_ENV_TOOL_DVDT_PROF']\n",
    "dvdt_prof_src_python=os.path.join(dvdt_prof_dir,'src','python')\n",
    "sys.path.append(dvdt_prof_src_python)\n",
    "import prof_wrangler as pw\n",
    "pw.test()"
   ]
  },
  {
   "cell_type": "markdown",
   "metadata": {},
   "source": [
    "## Access experimental results"
   ]
  },
  {
   "cell_type": "code",
   "execution_count": null,
   "metadata": {
    "collapsed": false
   },
   "outputs": [],
   "source": [
    "def get_experimental_results(tags):\n",
    "    r=ck.access({'action':'search', 'module_uoa':'experiment', 'tags':tags})\n",
    "    if r['return']>0:\n",
    "        print (\"Error: %s\" % r['error'])\n",
    "        exit(1)\n",
    "    # FIXME: For now, assume a single entry per the given tags.\n",
    "    r=ck.access({'action':'list_points', 'module_uoa':'experiment', 'data_uoa': r['lst'][0]['data_uoa']})\n",
    "    if r['return']>0:\n",
    "        print (\"Error: %s\" % r['error'])\n",
    "        exit(1)\n",
    "    \n",
    "    results = {}\n",
    "    for point in r['points']:\n",
    "        with open(os.path.join(r['path'], 'ckp-%s.0001.json' % point)) as point_file:\n",
    "            point_data_raw = json.load(point_file)\n",
    "            run_info_list = [\n",
    "                characteristics['run']\n",
    "                for characteristics in point_data_raw['characteristics_list']\n",
    "                if characteristics['run']['run_success'] == 'yes'\n",
    "            ]\n",
    "            # Select characteristics of interest. TODO: simplify.\n",
    "            point_data_dict = {\n",
    "                'time_fw_ms' : [ run_info.get('time_fw_ms',0)      for run_info in run_info_list ],\n",
    "                'dvdt_prof'  : [ run_info.get('dvdt_prof',{})      for run_info in run_info_list ],\n",
    "                'per_layer'  : [ run_info.get('per_layer_info',[]) for run_info in run_info_list ]\n",
    "            }\n",
    "            batch_size = point_data_raw['choices']['env']['CK_CAFFE_BATCH_SIZE']\n",
    "            results[batch_size] = point_data_dict\n",
    "    return results"
   ]
  },
  {
   "cell_type": "code",
   "execution_count": null,
   "metadata": {
    "collapsed": true
   },
   "outputs": [],
   "source": [
    "def get_min_time_fw_per_image(results):\n",
    "    time_fw_ms = { k : v['time_fw_ms'] for (k,v) in results.iteritems()}\n",
    "    df = pd.DataFrame(data=time_fw_ms)\n",
    "    df.index.name = 'repetition'\n",
    "    df.columns.name = 'batch size'\n",
    "    return (df.describe().ix['min'] / range(1,len(time_fw_ms)+1)).min()"
   ]
  },
  {
   "cell_type": "markdown",
   "metadata": {},
   "source": [
    "### AlexNet"
   ]
  },
  {
   "cell_type": "code",
   "execution_count": null,
   "metadata": {
    "collapsed": false
   },
   "outputs": [],
   "source": [
    "alexnet_clblas_tags = 'time,caffemodel,alexnet,clblas'\n",
    "alexnet_clblas_results = get_experimental_results(alexnet_clblas_tags)\n",
    "alexnet_clblas_min_time_fw_per_image = get_min_time_fw_per_image(alexnet_clblas_results)\n",
    "alexnet_clblas_min_time_fw_per_image"
   ]
  },
  {
   "cell_type": "code",
   "execution_count": null,
   "metadata": {
    "collapsed": false
   },
   "outputs": [],
   "source": [
    "# dvdt_prof_alexnet_clblas_tags = 'dvdt-prof-,caffemodel,alexnet,clblas'\n",
    "# dvdt_prof_alexnet_clblas_results = get_experimental_results(dvdt_prof_alexnet_clblas_tags)\n",
    "# dvdt_prof_alexnet_clblas_min_time_fw_per_image = get_min_time_fw_per_image(dvdt_prof_alexnet_clblas_results)\n",
    "# dvdt_prof_alexnet_clblas_min_time_fw_per_image"
   ]
  },
  {
   "cell_type": "code",
   "execution_count": null,
   "metadata": {
    "collapsed": false
   },
   "outputs": [],
   "source": [
    "dvdt_prof_cjson_alexnet_clblas_tags = 'dvdt-prof-cjson,caffemodel,alexnet,clblas'\n",
    "dvdt_prof_cjson_alexnet_clblas_results = get_experimental_results(dvdt_prof_cjson_alexnet_clblas_tags)\n",
    "dvdt_prof_cjson_alexnet_clblas_min_time_fw_per_image = get_min_time_fw_per_image(dvdt_prof_cjson_alexnet_clblas_results)\n",
    "dvdt_prof_cjson_alexnet_clblas_min_time_fw_per_image"
   ]
  },
  {
   "cell_type": "code",
   "execution_count": null,
   "metadata": {
    "collapsed": false
   },
   "outputs": [],
   "source": [
    "# alexnet_clblast_development_tags = 'time,caffemodel,alexnet,clblast,vdevelopment'\n",
    "# alexnet_clblast_development_results = get_experimental_results(alexnet_clblast_development_tags)\n",
    "# alexnet_clblast_development_min_time_fw_per_image = get_min_time_fw_per_image(alexnet_clblast_development_results)\n",
    "# alexnet_clblast_development_min_time_fw_per_image"
   ]
  },
  {
   "cell_type": "code",
   "execution_count": null,
   "metadata": {
    "collapsed": false
   },
   "outputs": [],
   "source": [
    "# alexnet_clblast_mali_overlay_tags = 'time,caffemodel,alexnet,clblast,vmali-overlay'\n",
    "# alexnet_clblast_mali_overlay_results = get_experimental_results(alexnet_clblast_mali_overlay_tags)\n",
    "# alexnet_clblast_mali_overlay_min_time_fw_per_image = get_min_time_fw_per_image(alexnet_clblast_mali_overlay_results)\n",
    "# alexnet_clblast_mali_overlay_min_time_fw_per_image"
   ]
  },
  {
   "cell_type": "markdown",
   "metadata": {},
   "source": [
    "### SqueezeNet 1.0"
   ]
  },
  {
   "cell_type": "code",
   "execution_count": null,
   "metadata": {
    "collapsed": false
   },
   "outputs": [],
   "source": [
    "# squeezenet_1_0_clblas_tags = 'time,caffemodel,squeezenet-1.0,clblas'\n",
    "# squeezenet_1_0_clblas_results = get_experimental_results(squeezenet_1_0_clblas_tags)\n",
    "# squeezenet_1_0_clblas_min_time_fw_per_image = get_min_time_fw_per_image(squeezenet_1_0_clblas_results)\n",
    "# squeezenet_1_0_clblas_min_time_fw_per_image"
   ]
  },
  {
   "cell_type": "code",
   "execution_count": null,
   "metadata": {
    "collapsed": false
   },
   "outputs": [],
   "source": [
    "# squeezenet_1_0_clblast_development_tags = 'time,caffemodel,squeezenet-1.0,clblast,vdevelopment'\n",
    "# squeezenet_1_0_clblast_development_results = get_experimental_results(squeezenet_1_0_clblast_development_tags)\n",
    "# squeezenet_1_0_clblast_development_min_time_fw_per_image = get_min_time_fw_per_image(squeezenet_1_0_clblast_development_results)\n",
    "# squeezenet_1_0_clblast_development_min_time_fw_per_image"
   ]
  },
  {
   "cell_type": "code",
   "execution_count": null,
   "metadata": {
    "collapsed": false
   },
   "outputs": [],
   "source": [
    "# squeezenet_1_0_clblast_mali_overlay_tags = 'time,caffemodel,squeezenet-1.0,clblast,vmali-overlay'\n",
    "# squeezenet_1_0_clblast_mali_overlay_results = get_experimental_results(squeezenet_1_0_clblast_mali_overlay_tags)\n",
    "# squeezenet_1_0_clblast_mali_overlay_min_time_fw_per_image = get_min_time_fw_per_image(squeezenet_1_0_clblast_mali_overlay_results)\n",
    "# squeezenet_1_0_clblast_mali_overlay_min_time_fw_per_image"
   ]
  },
  {
   "cell_type": "markdown",
   "metadata": {},
   "source": [
    "### SqueezeNet 1.1"
   ]
  },
  {
   "cell_type": "code",
   "execution_count": null,
   "metadata": {
    "collapsed": false
   },
   "outputs": [],
   "source": [
    "# squeezenet_1_1_clblas_tags = 'time,caffemodel,squeezenet-1.1,clblas'\n",
    "# squeezenet_1_1_clblas_results = get_experimental_results(squeezenet_1_1_clblas_tags)\n",
    "# squeezenet_1_1_clblas_min_time_fw_per_image = get_min_time_fw_per_image(squeezenet_1_1_clblas_results)\n",
    "# squeezenet_1_1_clblas_min_time_fw_per_image"
   ]
  },
  {
   "cell_type": "code",
   "execution_count": null,
   "metadata": {
    "collapsed": false
   },
   "outputs": [],
   "source": [
    "# squeezenet_1_1_clblast_development_tags = 'time,caffemodel,squeezenet-1.1,clblast,vdevelopment'\n",
    "# squeezenet_1_1_clblast_development_results = get_experimental_results(squeezenet_1_1_clblast_development_tags)\n",
    "# squeezenet_1_1_clblast_development_min_time_fw_per_image = get_min_time_fw_per_image(squeezenet_1_1_clblast_development_results)\n",
    "# squeezenet_1_1_clblast_development_min_time_fw_per_image"
   ]
  },
  {
   "cell_type": "code",
   "execution_count": null,
   "metadata": {
    "collapsed": false
   },
   "outputs": [],
   "source": [
    "# squeezenet_1_1_clblast_mali_overlay_tags = 'time,caffemodel,squeezenet-1.1,clblast,vmali-overlay'\n",
    "# squeezenet_1_1_clblast_mali_overlay_results = get_experimental_results(squeezenet_1_1_clblast_mali_overlay_tags)\n",
    "# squeezenet_1_1_clblast_mali_overlay_min_time_fw_per_image = get_min_time_fw_per_image(squeezenet_1_1_clblast_mali_overlay_results)\n",
    "# squeezenet_1_1_clblast_mali_overlay_min_time_fw_per_image"
   ]
  },
  {
   "cell_type": "markdown",
   "metadata": {},
   "source": [
    "### GoogleNet"
   ]
  },
  {
   "cell_type": "code",
   "execution_count": null,
   "metadata": {
    "collapsed": false
   },
   "outputs": [],
   "source": [
    "# googlenet_clblas_tags = 'time,caffemodel,googlenet,clblas'\n",
    "# googlenet_clblas_results = get_experimental_results(googlenet_clblas_tags)\n",
    "# googlenet_clblas_min_time_fw_per_image = get_min_time_fw_per_image(googlenet_clblas_results)\n",
    "# googlenet_clblas_min_time_fw_per_image"
   ]
  },
  {
   "cell_type": "code",
   "execution_count": null,
   "metadata": {
    "collapsed": false
   },
   "outputs": [],
   "source": [
    "# googlenet_clblast_development_tags = 'time,caffemodel,googlenet,clblast,vdevelopment'\n",
    "# googlenet_clblast_development_results = get_experimental_results(googlenet_clblast_development_tags)\n",
    "# googlenet_clblast_development_min_time_fw_per_image = get_min_time_fw_per_image(googlenet_clblast_development_results)\n",
    "# googlenet_clblast_development_min_time_fw_per_image"
   ]
  },
  {
   "cell_type": "code",
   "execution_count": null,
   "metadata": {
    "collapsed": false
   },
   "outputs": [],
   "source": [
    "# googlenet_clblast_mali_overlay_tags = 'time,caffemodel,googlenet,clblast,vmali-overlay'\n",
    "# googlenet_clblast_mali_overlay_results = get_experimental_results(googlenet_clblast_mali_overlay_tags)\n",
    "# googlenet_clblast_mali_overlay_min_time_fw_per_image = get_min_time_fw_per_image(googlenet_clblast_mali_overlay_results)\n",
    "# googlenet_clblast_mali_overlay_min_time_fw_per_image"
   ]
  },
  {
   "cell_type": "markdown",
   "metadata": {},
   "source": [
    "## Execution time - data frame"
   ]
  },
  {
   "cell_type": "code",
   "execution_count": null,
   "metadata": {
    "collapsed": false
   },
   "outputs": [],
   "source": [
    "data = {\n",
    "    'AlexNet w/ cBLAS v2.4' : {\n",
    "        'w/o dvdt-prof'      : alexnet_clblas_min_time_fw_per_image,\n",
    "#        'w/ dvdt-prof'       : dvdt_prof_alexnet_clblas_min_time_fw_per_image,\n",
    "        'w/ dvdt-prof-cjson' : dvdt_prof_cjson_alexnet_clblas_min_time_fw_per_image,\n",
    "    },\n",
    "}\n",
    "df = pd.DataFrame(data)\n",
    "df"
   ]
  },
  {
   "cell_type": "markdown",
   "metadata": {},
   "source": [
    "## Execution time - plot"
   ]
  },
  {
   "cell_type": "code",
   "execution_count": null,
   "metadata": {
    "collapsed": false
   },
   "outputs": [],
   "source": [
    "df.T \\\n",
    "    .plot(title='Execution time per image (ms)',\n",
    "          kind='bar', rot=0, ylim=[0,1100], figsize=[12, 6], grid=True, legend=True, colormap=cm.autumn)"
   ]
  },
  {
   "cell_type": "markdown",
   "metadata": {},
   "source": [
    "# Execution profile"
   ]
  },
  {
   "cell_type": "code",
   "execution_count": null,
   "metadata": {
    "collapsed": false
   },
   "outputs": [],
   "source": [
    "dvdt_prof_cjson_alexnet_clblas_batchsize1_trace0 = dvdt_prof_cjson_alexnet_clblas_results[1]['dvdt_prof'][0]\n",
    "trace = dvdt_prof_cjson_alexnet_clblas_batchsize1_trace0\n",
    "trace = pw.index_calls(trace)"
   ]
  },
  {
   "cell_type": "code",
   "execution_count": null,
   "metadata": {
    "collapsed": true
   },
   "outputs": [],
   "source": [
    "def df_index(nqs, label_fn):\n",
    "    index = pd.MultiIndex.from_tuples(\n",
    "        names=('call label', 'call index', 'kernel name'),\n",
    "        tuples=[\n",
    "            (label_fn(nq), nq['call_index'], nq['name'])\n",
    "            for nq in nqs\n",
    "        ]\n",
    "    )\n",
    "    return index"
   ]
  },
  {
   "cell_type": "code",
   "execution_count": null,
   "metadata": {
    "collapsed": true
   },
   "outputs": [],
   "source": [
    "def df_data(nqs):\n",
    "    data = [\n",
    "        {\n",
    "            'p1 - p0' : nq['profiling']['submit'] - nq['profiling']['queued'], # command queueing time\n",
    "            'p2 - p1' : nq['profiling']['start']  - nq['profiling']['submit'], # job queueing time\n",
    "            'p3 - p2' : nq['profiling']['end']    - nq['profiling']['start'],  # kernel execution time\n",
    "            't1 - t0' : pw.ts_delta_ns(ts_end=nq['timestamp']['end'], ts_start=nq['timestamp']['start']), # chrono time\n",
    "            't1 - t0 - (p3 - p0)' : \n",
    "                        pw.ts_delta_ns(ts_end=nq['timestamp']['end'], ts_start=nq['timestamp']['start']) - \n",
    "                        nq['profiling']['end'] + nq['profiling']['queued'],  # chrono overhead\n",
    "            'gws0' : nq['gws'][0],\n",
    "            'gws1' : nq['gws'][1],\n",
    "            'gws2' : nq['gws'][2],\n",
    "            'lws0' : nq['lws'][0],\n",
    "            'lws1' : nq['lws'][1],\n",
    "            'lws2' : nq['lws'][2]\n",
    "        }\n",
    "        for nq in nqs\n",
    "    ]\n",
    "    return data"
   ]
  },
  {
   "cell_type": "code",
   "execution_count": null,
   "metadata": {
    "collapsed": false
   },
   "outputs": [],
   "source": [
    "kernel_enqueues = pw.filter_calls(trace, ['clEnqueueNDRangeKernel'])\n",
    "max_nq_index = kernel_enqueues[-1]['call_index']\n",
    "max_nq_index_digits = len(str(max_nq_index))"
   ]
  },
  {
   "cell_type": "code",
   "execution_count": null,
   "metadata": {
    "collapsed": false
   },
   "outputs": [],
   "source": [
    "df_kernel_enqueues = pd.DataFrame(\n",
    "    data = df_data(\n",
    "        kernel_enqueues\n",
    "    ),\n",
    "    index = df_index(\n",
    "        kernel_enqueues,\n",
    "        label_fn = lambda nq: '%s %s' % (str(nq['call_index']).zfill(max_nq_index_digits), nq['name'])\n",
    "    )\n",
    ")\n",
    "df_kernel_enqueues[['p1 - p0', 'p2 - p1', 'p3 - p2', 't1 - t0', 't1 - t0 - (p3 - p0)']] *= 1e-6 # ns -> ms\n",
    "# df_kernel_enqueues"
   ]
  },
  {
   "cell_type": "code",
   "execution_count": null,
   "metadata": {
    "collapsed": false
   },
   "outputs": [],
   "source": [
    "df_kernel_enqueues.info(memory_usage=True)"
   ]
  },
  {
   "cell_type": "code",
   "execution_count": null,
   "metadata": {
    "collapsed": false
   },
   "outputs": [],
   "source": [
    "df_kernel_enqueues.sortlevel('call label')"
   ]
  },
  {
   "cell_type": "code",
   "execution_count": null,
   "metadata": {
    "collapsed": false
   },
   "outputs": [],
   "source": [
    "df_kernel_enqueues[['t1 - t0']].sum()"
   ]
  },
  {
   "cell_type": "code",
   "execution_count": null,
   "metadata": {
    "collapsed": false
   },
   "outputs": [],
   "source": [
    "df_kernel_enqueues[['p3 - p2']].sum()"
   ]
  },
  {
   "cell_type": "code",
   "execution_count": null,
   "metadata": {
    "collapsed": false
   },
   "outputs": [],
   "source": [
    "# Since gws[2] is always 1, summing it gives the number of kernel enqueues.\n",
    "time_and_num_kernel_enqueues = df_kernel_enqueues[['p3 - p2', 'gws2']].groupby(level='kernel name').sum()\n",
    "# Update the column and index labels.\n",
    "time_and_num_kernel_enqueues.columns = ['** Execution time (ms) **', '** Number of enqueues **']\n",
    "time_and_num_kernel_enqueues.index.name = '** Kernel name **'\n",
    "time_and_num_kernel_enqueues"
   ]
  }
 ],
 "metadata": {
  "kernelspec": {
   "display_name": "Python 2",
   "language": "python",
   "name": "python2"
  },
  "language_info": {
   "codemirror_mode": {
    "name": "ipython",
    "version": 2
   },
   "file_extension": ".py",
   "mimetype": "text/x-python",
   "name": "python",
   "nbconvert_exporter": "python",
   "pygments_lexer": "ipython2",
   "version": "2.7.12"
  }
 },
 "nbformat": 4,
 "nbformat_minor": 0
}
