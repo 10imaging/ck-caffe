{
 "cells": [
  {
   "cell_type": "markdown",
   "metadata": {},
   "source": [
    "# Execution time"
   ]
  },
  {
   "cell_type": "markdown",
   "metadata": {},
   "source": [
    "We first compare **performance** (execution time):\n",
    "- of the following CNN **models** (net + weights):\n",
    "<!--  - GoogleNet; -->\n",
    "  - AlexNet;\n",
    "<!--  - SqueezeNet 1.0; -->\n",
    "<!--  - SqueezeNet 1.1; -->\n",
    "\n",
    "- when using the following OpenCL BLAS **libraries**:\n",
    "<!--   - CLBlast dev (> 0.9.0); -->\n",
    "<!--   - CLBlast dev (> 0.9.0) with Mali-optimised overlay. -->\n",
    "  - clBLAS 2.4."
   ]
  },
  {
   "cell_type": "markdown",
   "metadata": {},
   "source": [
    "## Includes"
   ]
  },
  {
   "cell_type": "markdown",
   "metadata": {},
   "source": [
    "### Standard"
   ]
  },
  {
   "cell_type": "code",
   "execution_count": null,
   "metadata": {
    "collapsed": true
   },
   "outputs": [],
   "source": [
    "import os\n",
    "import sys\n",
    "import json"
   ]
  },
  {
   "cell_type": "markdown",
   "metadata": {},
   "source": [
    "### Scientific"
   ]
  },
  {
   "cell_type": "code",
   "execution_count": null,
   "metadata": {
    "collapsed": false
   },
   "outputs": [],
   "source": [
    "import IPython as ip\n",
    "import numpy as np\n",
    "import scipy as sp\n",
    "import pandas as pd\n",
    "import matplotlib as mp"
   ]
  },
  {
   "cell_type": "code",
   "execution_count": null,
   "metadata": {
    "collapsed": false
   },
   "outputs": [],
   "source": [
    "print 'IPython version: %s' % ip.__version__\n",
    "print 'NumPy version: %s' % np.__version__\n",
    "print 'SciPy version: %s' % sp.__version__\n",
    "print 'Pandas version: %s' % pd.__version__\n",
    "print 'Matplotlib version: %s' % mp.__version__"
   ]
  },
  {
   "cell_type": "code",
   "execution_count": null,
   "metadata": {
    "collapsed": true
   },
   "outputs": [],
   "source": [
    "import matplotlib.pyplot as plt\n",
    "from matplotlib import cm\n",
    "%matplotlib inline\n",
    "# import scipy.stats as st"
   ]
  },
  {
   "cell_type": "markdown",
   "metadata": {},
   "source": [
    "### Collective Knowledge"
   ]
  },
  {
   "cell_type": "code",
   "execution_count": null,
   "metadata": {
    "collapsed": false
   },
   "outputs": [],
   "source": [
    "import ck.kernel as ck\n",
    "print 'CK version: %s' % ck.__version__"
   ]
  },
  {
   "cell_type": "code",
   "execution_count": null,
   "metadata": {
    "collapsed": false
   },
   "outputs": [],
   "source": [
    "r=ck.access({'action':'show', 'module_uoa':'env', 'tags':'tool,opencl,dvdt,prof'})\n",
    "if r['return']>0:\n",
    "    print (\"Error: %s\" % r['error'])\n",
    "    exit(1)\n",
    "# Get path the first returned environment entry.\n",
    "dvdt_prof_dir=r['lst'][0]['meta']['env']['CK_ENV_TOOL_DVDT_PROF']\n",
    "dvdt_prof_src_python=os.path.join(dvdt_prof_dir,'src','python')\n",
    "sys.path.append(dvdt_prof_src_python)\n",
    "import prof_wrangler as pw\n",
    "pw.test()"
   ]
  },
  {
   "cell_type": "markdown",
   "metadata": {},
   "source": [
    "## Access experimental results"
   ]
  },
  {
   "cell_type": "code",
   "execution_count": null,
   "metadata": {
    "collapsed": false
   },
   "outputs": [],
   "source": [
    "def get_experimental_results(tags):\n",
    "    r=ck.access({'action':'search', 'module_uoa':'experiment', 'tags':tags})\n",
    "    if r['return']>0:\n",
    "        print (\"Error: %s\" % r['error'])\n",
    "        exit(1)\n",
    "    # FIXME: For now, assume a single entry per the given tags.\n",
    "    r=ck.access({'action':'list_points', 'module_uoa':'experiment', 'data_uoa': r['lst'][0]['data_uoa']})\n",
    "    if r['return']>0:\n",
    "        print (\"Error: %s\" % r['error'])\n",
    "        exit(1)\n",
    "    \n",
    "    results = {}\n",
    "    for point in r['points']:\n",
    "        with open(os.path.join(r['path'], 'ckp-%s.0001.json' % point)) as point_file:\n",
    "            point_data_raw = json.load(point_file)\n",
    "            run_info_list = [\n",
    "                characteristics['run']\n",
    "                for characteristics in point_data_raw['characteristics_list']\n",
    "                if characteristics['run']['run_success'] == 'yes'\n",
    "            ]\n",
    "            # Select characteristics of interest. TODO: simplify.\n",
    "            point_data_dict = {\n",
    "                'time_fw_ms' : [ run_info.get('time_fw_ms',0)      for run_info in run_info_list ],\n",
    "                'dvdt_prof'  : [ run_info.get('dvdt_prof',{})      for run_info in run_info_list ],\n",
    "                'per_layer'  : [ run_info.get('per_layer_info',[]) for run_info in run_info_list ]\n",
    "            }\n",
    "            batch_size = point_data_raw['choices']['env']['CK_CAFFE_BATCH_SIZE']\n",
    "            results[batch_size] = point_data_dict\n",
    "    return results"
   ]
  },
  {
   "cell_type": "code",
   "execution_count": null,
   "metadata": {
    "collapsed": true
   },
   "outputs": [],
   "source": [
    "def get_min_time_fw_per_image(results):\n",
    "    time_fw_ms = { k : v['time_fw_ms'] for (k,v) in results.iteritems()}\n",
    "    df = pd.DataFrame(data=time_fw_ms)\n",
    "    df.index.name = 'repetition'\n",
    "    df.columns.name = 'batch size'\n",
    "    return (df.describe().ix['min'] / range(1,len(time_fw_ms)+1)).min()"
   ]
  },
  {
   "cell_type": "markdown",
   "metadata": {},
   "source": [
    "### AlexNet"
   ]
  },
  {
   "cell_type": "code",
   "execution_count": null,
   "metadata": {
    "collapsed": false
   },
   "outputs": [],
   "source": [
    "alexnet_clblas_tags = 'time,caffemodel,alexnet,clblas'\n",
    "alexnet_clblas_results = get_experimental_results(alexnet_clblas_tags)\n",
    "alexnet_clblas_min_time_fw_per_image = get_min_time_fw_per_image(alexnet_clblas_results)\n",
    "alexnet_clblas_min_time_fw_per_image"
   ]
  },
  {
   "cell_type": "code",
   "execution_count": null,
   "metadata": {
    "collapsed": false
   },
   "outputs": [],
   "source": [
    "# dvdt_prof_alexnet_clblas_tags = 'dvdt-prof-,caffemodel,alexnet,clblas'\n",
    "# dvdt_prof_alexnet_clblas_results = get_experimental_results(dvdt_prof_alexnet_clblas_tags)\n",
    "# dvdt_prof_alexnet_clblas_min_time_fw_per_image = get_min_time_fw_per_image(dvdt_prof_alexnet_clblas_results)\n",
    "# dvdt_prof_alexnet_clblas_min_time_fw_per_image"
   ]
  },
  {
   "cell_type": "code",
   "execution_count": null,
   "metadata": {
    "collapsed": false
   },
   "outputs": [],
   "source": [
    "dvdt_prof_cjson_alexnet_clblas_tags = 'dvdt-prof-cjson,caffemodel,alexnet,clblas'\n",
    "dvdt_prof_cjson_alexnet_clblas_results = get_experimental_results(dvdt_prof_cjson_alexnet_clblas_tags)\n",
    "dvdt_prof_cjson_alexnet_clblas_min_time_fw_per_image = get_min_time_fw_per_image(dvdt_prof_cjson_alexnet_clblas_results)\n",
    "dvdt_prof_cjson_alexnet_clblas_min_time_fw_per_image"
   ]
  },
  {
   "cell_type": "code",
   "execution_count": null,
   "metadata": {
    "collapsed": false
   },
   "outputs": [],
   "source": [
    "# alexnet_clblast_development_tags = 'time,caffemodel,alexnet,clblast,vdevelopment'\n",
    "# alexnet_clblast_development_results = get_experimental_results(alexnet_clblast_development_tags)\n",
    "# alexnet_clblast_development_min_time_fw_per_image = get_min_time_fw_per_image(alexnet_clblast_development_results)\n",
    "# alexnet_clblast_development_min_time_fw_per_image"
   ]
  },
  {
   "cell_type": "code",
   "execution_count": null,
   "metadata": {
    "collapsed": false
   },
   "outputs": [],
   "source": [
    "# alexnet_clblast_mali_overlay_tags = 'time,caffemodel,alexnet,clblast,vmali-overlay'\n",
    "# alexnet_clblast_mali_overlay_results = get_experimental_results(alexnet_clblast_mali_overlay_tags)\n",
    "# alexnet_clblast_mali_overlay_min_time_fw_per_image = get_min_time_fw_per_image(alexnet_clblast_mali_overlay_results)\n",
    "# alexnet_clblast_mali_overlay_min_time_fw_per_image"
   ]
  },
  {
   "cell_type": "markdown",
   "metadata": {},
   "source": [
    "### SqueezeNet 1.0"
   ]
  },
  {
   "cell_type": "code",
   "execution_count": null,
   "metadata": {
    "collapsed": false
   },
   "outputs": [],
   "source": [
    "# squeezenet_1_0_clblas_tags = 'time,caffemodel,squeezenet-1.0,clblas'\n",
    "# squeezenet_1_0_clblas_results = get_experimental_results(squeezenet_1_0_clblas_tags)\n",
    "# squeezenet_1_0_clblas_min_time_fw_per_image = get_min_time_fw_per_image(squeezenet_1_0_clblas_results)\n",
    "# squeezenet_1_0_clblas_min_time_fw_per_image"
   ]
  },
  {
   "cell_type": "code",
   "execution_count": null,
   "metadata": {
    "collapsed": false
   },
   "outputs": [],
   "source": [
    "# squeezenet_1_0_clblast_development_tags = 'time,caffemodel,squeezenet-1.0,clblast,vdevelopment'\n",
    "# squeezenet_1_0_clblast_development_results = get_experimental_results(squeezenet_1_0_clblast_development_tags)\n",
    "# squeezenet_1_0_clblast_development_min_time_fw_per_image = get_min_time_fw_per_image(squeezenet_1_0_clblast_development_results)\n",
    "# squeezenet_1_0_clblast_development_min_time_fw_per_image"
   ]
  },
  {
   "cell_type": "code",
   "execution_count": null,
   "metadata": {
    "collapsed": false
   },
   "outputs": [],
   "source": [
    "# squeezenet_1_0_clblast_mali_overlay_tags = 'time,caffemodel,squeezenet-1.0,clblast,vmali-overlay'\n",
    "# squeezenet_1_0_clblast_mali_overlay_results = get_experimental_results(squeezenet_1_0_clblast_mali_overlay_tags)\n",
    "# squeezenet_1_0_clblast_mali_overlay_min_time_fw_per_image = get_min_time_fw_per_image(squeezenet_1_0_clblast_mali_overlay_results)\n",
    "# squeezenet_1_0_clblast_mali_overlay_min_time_fw_per_image"
   ]
  },
  {
   "cell_type": "markdown",
   "metadata": {},
   "source": [
    "### SqueezeNet 1.1"
   ]
  },
  {
   "cell_type": "code",
   "execution_count": null,
   "metadata": {
    "collapsed": false
   },
   "outputs": [],
   "source": [
    "# squeezenet_1_1_clblas_tags = 'time,caffemodel,squeezenet-1.1,clblas'\n",
    "# squeezenet_1_1_clblas_results = get_experimental_results(squeezenet_1_1_clblas_tags)\n",
    "# squeezenet_1_1_clblas_min_time_fw_per_image = get_min_time_fw_per_image(squeezenet_1_1_clblas_results)\n",
    "# squeezenet_1_1_clblas_min_time_fw_per_image"
   ]
  },
  {
   "cell_type": "code",
   "execution_count": null,
   "metadata": {
    "collapsed": false
   },
   "outputs": [],
   "source": [
    "# squeezenet_1_1_clblast_development_tags = 'time,caffemodel,squeezenet-1.1,clblast,vdevelopment'\n",
    "# squeezenet_1_1_clblast_development_results = get_experimental_results(squeezenet_1_1_clblast_development_tags)\n",
    "# squeezenet_1_1_clblast_development_min_time_fw_per_image = get_min_time_fw_per_image(squeezenet_1_1_clblast_development_results)\n",
    "# squeezenet_1_1_clblast_development_min_time_fw_per_image"
   ]
  },
  {
   "cell_type": "code",
   "execution_count": null,
   "metadata": {
    "collapsed": false
   },
   "outputs": [],
   "source": [
    "# squeezenet_1_1_clblast_mali_overlay_tags = 'time,caffemodel,squeezenet-1.1,clblast,vmali-overlay'\n",
    "# squeezenet_1_1_clblast_mali_overlay_results = get_experimental_results(squeezenet_1_1_clblast_mali_overlay_tags)\n",
    "# squeezenet_1_1_clblast_mali_overlay_min_time_fw_per_image = get_min_time_fw_per_image(squeezenet_1_1_clblast_mali_overlay_results)\n",
    "# squeezenet_1_1_clblast_mali_overlay_min_time_fw_per_image"
   ]
  },
  {
   "cell_type": "markdown",
   "metadata": {},
   "source": [
    "### GoogleNet"
   ]
  },
  {
   "cell_type": "code",
   "execution_count": null,
   "metadata": {
    "collapsed": false
   },
   "outputs": [],
   "source": [
    "# googlenet_clblas_tags = 'time,caffemodel,googlenet,clblas'\n",
    "# googlenet_clblas_results = get_experimental_results(googlenet_clblas_tags)\n",
    "# googlenet_clblas_min_time_fw_per_image = get_min_time_fw_per_image(googlenet_clblas_results)\n",
    "# googlenet_clblas_min_time_fw_per_image"
   ]
  },
  {
   "cell_type": "code",
   "execution_count": null,
   "metadata": {
    "collapsed": false
   },
   "outputs": [],
   "source": [
    "# googlenet_clblast_development_tags = 'time,caffemodel,googlenet,clblast,vdevelopment'\n",
    "# googlenet_clblast_development_results = get_experimental_results(googlenet_clblast_development_tags)\n",
    "# googlenet_clblast_development_min_time_fw_per_image = get_min_time_fw_per_image(googlenet_clblast_development_results)\n",
    "# googlenet_clblast_development_min_time_fw_per_image"
   ]
  },
  {
   "cell_type": "code",
   "execution_count": null,
   "metadata": {
    "collapsed": false
   },
   "outputs": [],
   "source": [
    "# googlenet_clblast_mali_overlay_tags = 'time,caffemodel,googlenet,clblast,vmali-overlay'\n",
    "# googlenet_clblast_mali_overlay_results = get_experimental_results(googlenet_clblast_mali_overlay_tags)\n",
    "# googlenet_clblast_mali_overlay_min_time_fw_per_image = get_min_time_fw_per_image(googlenet_clblast_mali_overlay_results)\n",
    "# googlenet_clblast_mali_overlay_min_time_fw_per_image"
   ]
  },
  {
   "cell_type": "markdown",
   "metadata": {},
   "source": [
    "## Execution time - data frame"
   ]
  },
  {
   "cell_type": "code",
   "execution_count": null,
   "metadata": {
    "collapsed": false
   },
   "outputs": [],
   "source": [
    "data = {\n",
    "    'AlexNet w/ cBLAS v2.4' : {\n",
    "        'w/o dvdt-prof'      : alexnet_clblas_min_time_fw_per_image,\n",
    "#        'w/ dvdt-prof'       : dvdt_prof_alexnet_clblas_min_time_fw_per_image,\n",
    "        'w/ dvdt-prof-cjson' : dvdt_prof_cjson_alexnet_clblas_min_time_fw_per_image,\n",
    "    },\n",
    "}\n",
    "df = pd.DataFrame(data)\n",
    "df"
   ]
  },
  {
   "cell_type": "markdown",
   "metadata": {},
   "source": [
    "## Execution time - plot"
   ]
  },
  {
   "cell_type": "code",
   "execution_count": null,
   "metadata": {
    "collapsed": false
   },
   "outputs": [],
   "source": [
    "df.T \\\n",
    "    .plot(title='Execution time per image (ms)',\n",
    "          kind='bar', rot=0, ylim=[0,1100], figsize=[12, 6], grid=True, legend=True, colormap=cm.autumn)"
   ]
  },
  {
   "cell_type": "markdown",
   "metadata": {},
   "source": [
    "# Execution profile"
   ]
  },
  {
   "cell_type": "code",
   "execution_count": null,
   "metadata": {
    "collapsed": true
   },
   "outputs": [],
   "source": [
    "# Preferred time unit ('ns', 'us', 'ms', 's').\n",
    "unit = 'ms'"
   ]
  },
  {
   "cell_type": "code",
   "execution_count": null,
   "metadata": {
    "collapsed": false
   },
   "outputs": [],
   "source": [
    "dvdt_prof_cjson_alexnet_clblas_batchsize1_trace0 = dvdt_prof_cjson_alexnet_clblas_results[1]['dvdt_prof'][0]\n",
    "trace = dvdt_prof_cjson_alexnet_clblas_batchsize1_trace0\n",
    "trace = pw.index_calls(trace)"
   ]
  },
  {
   "cell_type": "code",
   "execution_count": null,
   "metadata": {
    "collapsed": true
   },
   "outputs": [],
   "source": [
    "# Partial trace only containing kernel enqueues.\n",
    "kernel_enqueues = pw.filter_calls(trace, ['clEnqueueNDRangeKernel'])"
   ]
  },
  {
   "cell_type": "code",
   "execution_count": null,
   "metadata": {
    "collapsed": false
   },
   "outputs": [],
   "source": [
    "# # Use a simple helper that works for any enqueue. Scale by 1e-6 to get ms.\n",
    "# df_kernel_enqueues = pw.df_enqueues_ns(kernel_enqueues) * 1e-6\n",
    "# df_kernel_enqueues"
   ]
  },
  {
   "cell_type": "code",
   "execution_count": null,
   "metadata": {
    "collapsed": false
   },
   "outputs": [],
   "source": [
    "# Use a more sophisticated helper that works only for kernel enqueues.\n",
    "df_kernel_enqueues = pw.df_kernel_enqueues(kernel_enqueues, unit)\n",
    "# df_kernel_enqueues"
   ]
  },
  {
   "cell_type": "code",
   "execution_count": null,
   "metadata": {
    "collapsed": false
   },
   "outputs": [],
   "source": [
    "# Cumulative kernel execution time according to timestamps.\n",
    "df_kernel_enqueues[['t1 - t0 (%s)' % unit]].sum()"
   ]
  },
  {
   "cell_type": "code",
   "execution_count": null,
   "metadata": {
    "collapsed": false
   },
   "outputs": [],
   "source": [
    "# Cumulative kernel execution time according to profiling.\n",
    "df_kernel_enqueues[['p3 - p0 (%s)' % unit]].sum()"
   ]
  },
  {
   "cell_type": "code",
   "execution_count": null,
   "metadata": {
    "collapsed": false
   },
   "outputs": [],
   "source": [
    "# Show kernel enqueues that at least 10 ms to execute and with at least 50% of overhead in profiling.\n",
    "df_kernel_enqueues[\n",
    "    (df_kernel_enqueues['t1 - t0 (ms)'] > 10) & \\\n",
    "    (df_kernel_enqueues['t1 - t0 (ms)'] > 1.5 * df_kernel_enqueues['p3 - p0 (ms)'])\n",
    "]"
   ]
  },
  {
   "cell_type": "code",
   "execution_count": null,
   "metadata": {
    "collapsed": false
   },
   "outputs": [],
   "source": [
    "df_kernel_enqueues_cumulative_time_num = pw.df_kernel_enqueues_cumulative_time_num(df_kernel_enqueues, unit)\n",
    "df_kernel_enqueues_cumulative_time_num[\n",
    "    df_kernel_enqueues_cumulative_time_num['** Execution time (%) **'] > 0.2\n",
    "]"
   ]
  }
 ],
 "metadata": {
  "kernelspec": {
   "display_name": "Python 2",
   "language": "python",
   "name": "python2"
  },
  "language_info": {
   "codemirror_mode": {
    "name": "ipython",
    "version": 2
   },
   "file_extension": ".py",
   "mimetype": "text/x-python",
   "name": "python",
   "nbconvert_exporter": "python",
   "pygments_lexer": "ipython2",
   "version": "2.7.12"
  }
 },
 "nbformat": 4,
 "nbformat_minor": 0
}
